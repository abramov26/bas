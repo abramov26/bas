{
  "metadata": {
    "language_info": {
      "codemirror_mode": {
        "name": "python",
        "version": 3
      },
      "file_extension": ".py",
      "mimetype": "text/x-python",
      "name": "python",
      "nbconvert_exporter": "python",
      "pygments_lexer": "ipython3",
      "version": "3.8"
    },
    "kernelspec": {
      "name": "python",
      "display_name": "Pyolite",
      "language": "python"
    },
    "colab": {
      "provenance": []
    }
  },
  "nbformat_minor": 0,
  "nbformat": 4,
  "cells": [
    {
      "cell_type": "markdown",
      "source": [
        "# БАС. Абрамов В. В., ПИ-423 \n",
        "Выполнил следующее задание:\n",
        "## Задание 2. IPYNB и GitHub\n",
        "Задание 2. IPYNB и GitHub\n",
        "### Таблица греческих букв\n",
        "Заглавная|Строчная|Название\n",
        "--|--|--\n",
        "A|$\\alpha$|Альфа\n",
        "B|$\\beta$|Бета\n",
        "$\\Gamma$|$\\gamma$|Гамма\n",
        "$\\Delta$|$\\delta$|Дельта\n",
        "E|$\\epsilon$ $\\varepsilon$|Эпсилон\n",
        "Z|$\\zeta$|Дзета\n",
        "H|$\\eta$|Эта\n",
        "$\\Theta$|$\\theta$ $\\vartheta$|Тета\n",
        "I|$\\iota$|Йота\n",
        "K|$\\kappa$|Каппа\n",
        "$\\Lambda$|$\\lambda$|Лямбда\n",
        "M|$\\mu$|Мю (ми)\n",
        "N|$\\nu$|Ню (ни)\n",
        "$\\Xi$|$\\xi$|Кси\n",
        "O|o|Омикрон\n",
        "$\\Pi$|$\\pi$ $\\varpi$|Пи\n",
        "P|$\\rho$ $\\varrho$|Ро\n",
        "$\\Sigma$|$\\sigma$ $\\varsigma$|Сигма\n",
        "T|$\\tau$|Тау\n",
        "$\\Upsilon$|$\\upsilon$|Ипсилон\n",
        "$\\Phi$|$\\phi$ $\\varphi$|Фи\n",
        "X|$\\chi$|Хи\n",
        "$\\Psi$|$\\psi$|Пси\n",
        "$\\Omega$|$\\omega$|Омега\n",
        "\n",
        "#### Формула нормального распределения в формате LaTeX\n",
        "Формула в тексте: ${\\displaystyle f(x)={\\frac {1}{\\sigma {\\sqrt {2\\pi }}}}en {-{\\frac {1}{2}}\\left({\\frac {x-\\mu }{\\sigma }}\\right) {2}}}$"
      ],
      "metadata": {
        "id": "MPGldHbUvsr8"
      }
    },
    {
      "cell_type": "markdown",
      "source": [],
      "metadata": {
        "id": "fHd6XtFgvsr_"
      }
    }
  ]
}